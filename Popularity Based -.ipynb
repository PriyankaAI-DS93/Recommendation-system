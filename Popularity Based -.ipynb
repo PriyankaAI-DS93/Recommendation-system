{
 "cells": [
  {
   "cell_type": "code",
   "execution_count": 1,
   "id": "2f43f4ac-1ba8-420a-a11e-044029f55eb7",
   "metadata": {},
   "outputs": [],
   "source": [
    "import pandas as pd\n",
    "import numpy as np"
   ]
  },
  {
   "cell_type": "code",
   "execution_count": 2,
   "id": "35716635-1c3c-48cb-8c38-41b0d45d4579",
   "metadata": {},
   "outputs": [],
   "source": [
    "i_cols = ['movie id', 'movie title' ,'release date','video release date', 'IMDb URL', 'unknown', 'Action', 'Adventure',\n",
    "          'Animation', 'Children\\'s', 'Comedy', 'Crime', 'Documentary', 'Drama', 'Fantasy', 'Film-Noir', 'Horror', 'Musical', 'Mystery', 'Romance', \n",
    "          'Sci-Fi', 'Thriller', 'War', 'Western']\n",
    "items = pd.read_csv('ml-100k/u.item', sep='|', names=i_cols, encoding='latin-1')"
   ]
  },
  {
   "cell_type": "code",
   "execution_count": 3,
   "id": "3e5481f0-f3e9-449f-9d75-cecb2dd9d24d",
   "metadata": {},
   "outputs": [],
   "source": [
    "movie_df=items[['movie id', 'movie title', 'Action', 'Adventure',\n",
    "          'Animation', 'Children\\'s', 'Comedy', 'Crime', 'Documentary', 'Drama', 'Fantasy', 'Film-Noir', 'Horror', 'Musical', 'Mystery', 'Romance', \n",
    "          'Sci-Fi', 'Thriller', 'War', 'Western']]"
   ]
  },
  {
   "cell_type": "code",
   "execution_count": 4,
   "id": "8eb58d6d-0415-483e-9d9c-99f47d713716",
   "metadata": {},
   "outputs": [],
   "source": [
    "r_cols=['user_id', 'movie_id', 'rating', 'unix_timestamp']\n",
    "ratings=pd.read_csv('ml-100k/u.data', sep='\\t', names=r_cols, encoding='latin-1')"
   ]
  },
  {
   "cell_type": "code",
   "execution_count": 5,
   "id": "e7241e47-b17b-474c-a5c6-2d71041312ab",
   "metadata": {},
   "outputs": [],
   "source": [
    "zoner_columns = ['Action', 'Adventure', 'Animation', 'Children\\'s', 'Comedy', 'Crime', 'Documentary', 'Drama', \n",
    "                     'Fantasy', 'Film-Noir', 'Horror', 'Musical', 'Mystery', 'Romance', 'Sci-Fi', 'Thriller', 'War', 'Western']\n",
    "\n",
    "movie_zone = {}\n",
    "popularity = {}\n",
    "\n",
    "for zone in zoner_columns:\n",
    "        movie_zone[zone] = movie_df[movie_df[zone] == 1][['movie id', 'movie title']]\n",
    "        zone_movieid = movie_zone[zone]['movie id']\n",
    "        rate_col = ratings[ratings['movie_id'].isin(zone_movieid)]\n",
    "        popularity[zone] = rate_col['movie_id'].value_counts() "
   ]
  },
  {
   "cell_type": "code",
   "execution_count": 6,
   "id": "3ffd4119-a848-49de-8a88-bb0c1c323f88",
   "metadata": {},
   "outputs": [],
   "source": [
    "top5=popularity['Adventure'].head(5)\n",
    "top5_id=top5.index\n",
    "top5_id\n",
    "movie_title=[]\n",
    "for i in top5_id:\n",
    "    title=items[items['movie id']==i]['movie title'].values\n",
    "    movie_title.append(title)"
   ]
  },
  {
   "cell_type": "code",
   "execution_count": 7,
   "id": "89990bff-5b3d-47ff-94be-44efc8a5f47b",
   "metadata": {},
   "outputs": [],
   "source": [
    "def dfg(zone):\n",
    "\n",
    "    top5=popularity[zone].head(5)\n",
    "    top5_id=top5.index\n",
    "    top5_id\n",
    "    movie_title=[]\n",
    "    for i in top5_id:\n",
    "        title=items[items['movie id']==i]['movie title'].values\n",
    "        movie_title.append(title)\n",
    "        result=movie_title\n",
    "    return result"
   ]
  },
  {
   "cell_type": "code",
   "execution_count": 8,
   "id": "88543db9-a2a6-4c51-a456-5a6933c3de7a",
   "metadata": {},
   "outputs": [
    {
     "data": {
      "text/plain": [
       "[array(['Star Wars (1977)'], dtype=object),\n",
       " array(['Return of the Jedi (1983)'], dtype=object),\n",
       " array(['Raiders of the Lost Ark (1981)'], dtype=object),\n",
       " array(['Rock, The (1996)'], dtype=object),\n",
       " array(['Empire Strikes Back, The (1980)'], dtype=object)]"
      ]
     },
     "execution_count": 8,
     "metadata": {},
     "output_type": "execute_result"
    }
   ],
   "source": [
    "dfg('Adventure')"
   ]
  },
  {
   "cell_type": "code",
   "execution_count": 9,
   "id": "169e90f7-5f3f-4797-ac3f-c7bd4861ef08",
   "metadata": {},
   "outputs": [
    {
     "data": {
      "text/plain": [
       "[array(['Scream (1996)'], dtype=object),\n",
       " array(['Alien (1979)'], dtype=object),\n",
       " array(['Jaws (1975)'], dtype=object),\n",
       " array(['Psycho (1960)'], dtype=object),\n",
       " array(['Shining, The (1980)'], dtype=object)]"
      ]
     },
     "execution_count": 9,
     "metadata": {},
     "output_type": "execute_result"
    }
   ],
   "source": [
    "dfg('Horror')"
   ]
  },
  {
   "cell_type": "code",
   "execution_count": 10,
   "id": "5d027d4d-d885-42f5-82e9-2b066b81e1a1",
   "metadata": {},
   "outputs": [
    {
     "data": {
      "text/plain": [
       "[array(['Star Wars (1977)'], dtype=object),\n",
       " array(['Return of the Jedi (1983)'], dtype=object),\n",
       " array(['Air Force One (1997)'], dtype=object),\n",
       " array(['Independence Day (ID4) (1996)'], dtype=object),\n",
       " array(['Raiders of the Lost Ark (1981)'], dtype=object)]"
      ]
     },
     "execution_count": 10,
     "metadata": {},
     "output_type": "execute_result"
    }
   ],
   "source": [
    "dfg('Action')"
   ]
  },
  {
   "cell_type": "code",
   "execution_count": null,
   "id": "8395466f-8691-48e1-88c2-ad2dff94dedb",
   "metadata": {},
   "outputs": [],
   "source": []
  }
 ],
 "metadata": {
  "kernelspec": {
   "display_name": "Python 3 (ipykernel)",
   "language": "python",
   "name": "python3"
  },
  "language_info": {
   "codemirror_mode": {
    "name": "ipython",
    "version": 3
   },
   "file_extension": ".py",
   "mimetype": "text/x-python",
   "name": "python",
   "nbconvert_exporter": "python",
   "pygments_lexer": "ipython3",
   "version": "3.10.15"
  }
 },
 "nbformat": 4,
 "nbformat_minor": 5
}
